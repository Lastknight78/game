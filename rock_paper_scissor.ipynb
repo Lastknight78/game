{
 "cells": [
  {
   "cell_type": "code",
   "execution_count": null,
   "metadata": {},
   "outputs": [],
   "source": [
    "import random\n",
    "options = [\"rock\",\"scissors\",\"paper\"]\n",
    "\n",
    "count = 0\n",
    "add = 0\n",
    "print(\"WALE and TOSIN should play a game called ROCK, PAPER AND SCISSORS blindfoldedly\")\n",
    "print(\"each of them has to be able to guess what the computer choosed among the 3(ROCK,PAPER and SCISSORS) \")\n",
    "print(\"the winner is the first person to guess what the computer has choosen 3 times\")\n",
    "while count != 3 and add != 3:\n",
    "    computer = random.choice(options)\n",
    "    choose_1 = input(\"user_1 chooose one of rock, paper and scissors:\")\n",
    "    choose_2 = input(\"user_2 choose one of rock,paper and scissors:\")\n",
    "    if choose_1 != ['rock','paper','scissors']:\n",
    "        print('error')\n",
    "        \n",
    "    print(computer)\n",
    "    if choose_1 == computer:\n",
    "        count += 1\n",
    "        \n",
    "    if choose_2 == computer:\n",
    "        add += 1\n",
    "print(computer)        \n",
    "print(count)\n",
    "print(add)\n",
    "if count == 3:\n",
    "    print(\"user_1 has won the GAME\")\n",
    "if add == 3:\n",
    "    print(\"user_2 has won the GAME\")\n",
    "if add == count:\n",
    "    print(\"draw\")"
   ]
  }
 ],
 "metadata": {
  "kernelspec": {
   "display_name": "Python 3",
   "language": "python",
   "name": "python3"
  },
  "language_info": {
   "codemirror_mode": {
    "name": "ipython",
    "version": 3
   },
   "file_extension": ".py",
   "mimetype": "text/x-python",
   "name": "python",
   "nbconvert_exporter": "python",
   "pygments_lexer": "ipython3",
   "version": "3.7.6"
  }
 },
 "nbformat": 4,
 "nbformat_minor": 4
}
